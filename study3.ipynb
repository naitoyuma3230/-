{
 "cells": [
  {
   "cell_type": "markdown",
   "metadata": {
    "tags": []
   },
   "source": [
    "# 統計学の体系  \n",
    "### 目的と考え方の分類  \n",
    "- 記述統計  \n",
    "収集したデータの平均や分散、標準偏差などを計算して分布を明らかし、データの示す傾向や性質を把握する  \n",
    "\n",
    "- 推計統計学  \n",
    "母集団から抽出した特定の標本(サンプル)を使い、母集団の性質を推論する\n",
    "\n",
    "![image](./study3_files/tech_data1.jpg)\n",
    "\n",
    "\n",
    "### 「ビッグデータ」\n",
    "IoT化が進み個々人の膨大なサンプルを集積できるようになった。  \n",
    "標本が母集団により近づくについれ正確な推論が可能となっている。\n",
    "\n",
    "例えば楽天サービスを利用すると、住所、年齢、性別、家族、職業、月収、貯金残高、お金の使い方など様々な情報を収集される  \n",
    "\n",
    "昨今では、こういった膨大な情報を解析できるようになった。"
   ]
  },
  {
   "cell_type": "code",
   "execution_count": 1,
   "metadata": {},
   "outputs": [],
   "source": [
    "import pandas as pd\n",
    "import numpy as np\n",
    "import matplotlib.pyplot as plt\n",
    "import sympy as sym\n",
    "from fractions import Fraction\n",
    "from sympy.plotting import plot\n",
    "sym.init_printing(use_unicode=True)\n",
    "%matplotlib inline\n",
    "# シンボルを登録\n",
    "a, b, c, x, y = sym.symbols(\"a b c x y\")\n",
    "plt.rcParams['font.family'] = 'Noto Sans JP'"
   ]
  },
  {
   "cell_type": "markdown",
   "metadata": {},
   "source": [
    "## データのばらつきに関する統計量\n",
    ">平均値や中央値など中心が同じでもばらつきが異なる2つのデータ"
   ]
  },
  {
   "cell_type": "markdown",
   "metadata": {},
   "source": [
    "![img](test_files/test_30.png)"
   ]
  },
  {
   "cell_type": "markdown",
   "metadata": {},
   "source": [
    "## 分散  \n",
    "各データの値が平均値からどのくらい離れているか、各データ値の平均との差を求めて2乗した後、更にその合計の平均値を出したもの  \n",
    "平均との差は正負が入り混じっているため、2乗して正に数に統一する  \n",
    "分散$α^2$  \n",
    "平均値$x^-$\n",
    "\n",
    "$$ α^2 = \\frac{1}{n}\\sum_{i=1}^{n}(x_i-x^{-})2 $$"
   ]
  },
  {
   "cell_type": "markdown",
   "metadata": {},
   "source": [
    "サンプルデータ：ある男子中学校の体型データ(ネットで拾った)\n",
    "- height:身長\n",
    "- weight:体重\n",
    "- hand_length:手掌の長さ"
   ]
  },
  {
   "cell_type": "code",
   "execution_count": 2,
   "metadata": {},
   "outputs": [
    {
     "data": {
      "text/html": [
       "<div>\n",
       "<style scoped>\n",
       "    .dataframe tbody tr th:only-of-type {\n",
       "        vertical-align: middle;\n",
       "    }\n",
       "\n",
       "    .dataframe tbody tr th {\n",
       "        vertical-align: top;\n",
       "    }\n",
       "\n",
       "    .dataframe thead th {\n",
       "        text-align: right;\n",
       "    }\n",
       "</style>\n",
       "<table border=\"1\" class=\"dataframe\">\n",
       "  <thead>\n",
       "    <tr style=\"text-align: right;\">\n",
       "      <th></th>\n",
       "      <th>height</th>\n",
       "      <th>weight</th>\n",
       "      <th>hand_length</th>\n",
       "    </tr>\n",
       "  </thead>\n",
       "  <tbody>\n",
       "    <tr>\n",
       "      <th>0</th>\n",
       "      <td>170.9</td>\n",
       "      <td>66.1</td>\n",
       "      <td>74.1</td>\n",
       "    </tr>\n",
       "    <tr>\n",
       "      <th>1</th>\n",
       "      <td>175.1</td>\n",
       "      <td>60.9</td>\n",
       "      <td>73.6</td>\n",
       "    </tr>\n",
       "    <tr>\n",
       "      <th>2</th>\n",
       "      <td>170.7</td>\n",
       "      <td>71.5</td>\n",
       "      <td>77.7</td>\n",
       "    </tr>\n",
       "    <tr>\n",
       "      <th>3</th>\n",
       "      <td>171.7</td>\n",
       "      <td>51.8</td>\n",
       "      <td>75.6</td>\n",
       "    </tr>\n",
       "    <tr>\n",
       "      <th>4</th>\n",
       "      <td>170.8</td>\n",
       "      <td>58.2</td>\n",
       "      <td>73.3</td>\n",
       "    </tr>\n",
       "    <tr>\n",
       "      <th>...</th>\n",
       "      <td>...</td>\n",
       "      <td>...</td>\n",
       "      <td>...</td>\n",
       "    </tr>\n",
       "    <tr>\n",
       "      <th>95</th>\n",
       "      <td>169.8</td>\n",
       "      <td>63.2</td>\n",
       "      <td>73.8</td>\n",
       "    </tr>\n",
       "    <tr>\n",
       "      <th>96</th>\n",
       "      <td>165.8</td>\n",
       "      <td>55.0</td>\n",
       "      <td>69.3</td>\n",
       "    </tr>\n",
       "    <tr>\n",
       "      <th>97</th>\n",
       "      <td>166.8</td>\n",
       "      <td>58.8</td>\n",
       "      <td>70.4</td>\n",
       "    </tr>\n",
       "    <tr>\n",
       "      <th>98</th>\n",
       "      <td>178.8</td>\n",
       "      <td>69.0</td>\n",
       "      <td>74.9</td>\n",
       "    </tr>\n",
       "    <tr>\n",
       "      <th>99</th>\n",
       "      <td>167.5</td>\n",
       "      <td>58.7</td>\n",
       "      <td>73.0</td>\n",
       "    </tr>\n",
       "  </tbody>\n",
       "</table>\n",
       "<p>100 rows × 3 columns</p>\n",
       "</div>"
      ],
      "text/plain": [
       "    height  weight  hand_length\n",
       "0    170.9    66.1         74.1\n",
       "1    175.1    60.9         73.6\n",
       "2    170.7    71.5         77.7\n",
       "3    171.7    51.8         75.6\n",
       "4    170.8    58.2         73.3\n",
       "..     ...     ...          ...\n",
       "95   169.8    63.2         73.8\n",
       "96   165.8    55.0         69.3\n",
       "97   166.8    58.8         70.4\n",
       "98   178.8    69.0         74.9\n",
       "99   167.5    58.7         73.0\n",
       "\n",
       "[100 rows x 3 columns]"
      ]
     },
     "execution_count": 2,
     "metadata": {},
     "output_type": "execute_result"
    }
   ],
   "source": [
    "df = pd.read_csv('excel_data01mod.csv')\n",
    "df"
   ]
  },
  {
   "cell_type": "markdown",
   "metadata": {},
   "source": [
    ">ヒストグラム作成"
   ]
  },
  {
   "cell_type": "code",
   "execution_count": 3,
   "metadata": {},
   "outputs": [
    {
     "data": {
      "image/png": "[encoded data removed]",
      "text/plain": [
       "<Figure size 432x288 with 1 Axes>"
      ]
     },
     "metadata": {
      "needs_background": "light"
     },
     "output_type": "display_data"
    },
    {
     "data": {
      "image/png": "[encoded data removed]",
      "text/plain": [
       "<Figure size 432x288 with 1 Axes>"
      ]
     },
     "metadata": {
      "needs_background": "light"
     },
     "output_type": "display_data"
    },
    {
     "data": {
      "image/png": "[encoded data removed]",
      "text/plain": [
       "<Figure size 432x288 with 1 Axes>"
      ]
     },
     "metadata": {
      "needs_background": "light"
     },
     "output_type": "display_data"
    },
    {
     "name": "stdout",
     "output_type": "stream",
     "text": [
      "身長の分散:20.46cm^2\n",
      "体重の分散:41.89cm^2\n",
      "手掌の長さの分散:7.56cm^2\n"
     ]
    }
   ],
   "source": [
    "height = np.array(df[\"height\"])\n",
    "weight = np.array(df[\"weight\"])\n",
    "hand_length = np.array(df[\"hand_length\"])\n",
    "\n",
    "fig1 = plt.figure()\n",
    "fig2 = plt.figure()\n",
    "fig3 = plt.figure()\n",
    "\n",
    "# 描画領域の設定\n",
    "ax1 = fig1.add_subplot(1, 1, 1)\n",
    "ax2 = fig2.add_subplot(1, 1, 1)\n",
    "ax3 = fig3.add_subplot(1, 1, 1)\n",
    "\n",
    "# グラフタイトル\n",
    "ax1.set_title('height')\n",
    "ax2.set_title('weight')\n",
    "ax3.set_title('hand')\n",
    "\n",
    "ax1.hist(height, bins=\"auto\",  histtype='step')\n",
    "ax2.hist(weight, bins=\"auto\",  histtype='step')\n",
    "ax3.hist(hand_length, bins=\"auto\",  histtype='step')\n",
    "# グラフ描写\n",
    "plt.show()\n",
    "\n",
    "# 分散を算出\n",
    "print(\"身長の分散:\" + str(round(np.var(height),2)) + \"cm^2\")\n",
    "print(\"体重の分散:\" + str(round(np.var(weight),2))+ \"cm^2\")\n",
    "print(\"手掌の長さの分散:\" + str(round(np.var(hand_length),2)) + \"cm^2\")"
   ]
  },
  {
   "cell_type": "markdown",
   "metadata": {},
   "source": [
    "#### 分散だと差が2乗されててイメージしにくい...\n",
    "  \n",
    "## 標準偏差  \n",
    "標準偏差$α$  \n",
    "$$ α =  \\sqrt{\\frac{1}{n}\\sum_{i=1}^{n}(x_i - x^-)^2} $$\n",
    "分散の平方を求めた値"
   ]
  },
  {
   "cell_type": "code",
   "execution_count": 4,
   "metadata": {},
   "outputs": [
    {
     "name": "stdout",
     "output_type": "stream",
     "text": [
      "身長の標準偏差:±4.52cm\n",
      "体重の分標準偏差:±6.47cm\n",
      "手掌の長さの標準偏差:±2.75cm\n"
     ]
    }
   ],
   "source": [
    "print(\"身長の標準偏差:±\" + str(round(np.std(height),2)) + \"cm\")\n",
    "print(\"体重の分標準偏差:±\" + str(round(np.std(weight),2))+ \"cm\")\n",
    "print(\"手掌の長さの標準偏差:±\" + str(round(np.std(hand_length),2)) + \"cm\")"
   ]
  },
  {
   "cell_type": "markdown",
   "metadata": {},
   "source": [
    "<b>標準偏差が一番小さいから手掌の長さが一番ばらつきが少ない？</b>  \n",
    ">分散や標準偏差はデータの大きさに依存するためこの結論は不適切\n",
    ">異なるデータに対しては単純に標準偏差でばらつきを評価することが適切でない"
   ]
  },
  {
   "cell_type": "markdown",
   "metadata": {},
   "source": [
    "## 変動係数\n",
    "平均$x^-$  \n",
    "標準編差$α$\n",
    "\n",
    "$$ CV = \\frac{α}{x^-} $$\n",
    "\n",
    "標準偏差を平均値で除する  \n",
    "<b>平均値に対する相対的な値となるので、データが異なっても比較可能</b>"
   ]
  },
  {
   "cell_type": "code",
   "execution_count": 15,
   "metadata": {},
   "outputs": [
    {
     "name": "stdout",
     "output_type": "stream",
     "text": [
      "身長の変動係数:0.03\n",
      "体重の変動係数:0.11\n",
      "手掌の長さの変動係数:0.04\n"
     ]
    }
   ],
   "source": [
    "# 変動係数はnumpyではなくscipyを使用する\n",
    "from scipy.stats import variation\n",
    "print(\"身長の変動係数:\" + str(round(variation(height),2)))\n",
    "print(\"体重の変動係数:\" + str(round(variation(weight),2)))\n",
    "print(\"手掌の長さの変動係数:\" + str(round(variation(hand_length),2)))"
   ]
  },
  {
   "cell_type": "markdown",
   "metadata": {},
   "source": [
    "><b>変動係数で各データを比較すると、身長のばらつきが最も小さい事がわかる</b>"
   ]
  },
  {
   "cell_type": "markdown",
   "metadata": {},
   "source": [
    " # 確率変数と分布\n",
    "推論には確率を使う。  \n",
    "\n",
    "- 確率変数：サイコロでいうと目の値\n",
    "- 確率：サイコロでいうと特定の目がでる確率\n"
   ]
  },
  {
   "cell_type": "markdown",
   "metadata": {},
   "source": [
    "|確率変数|1|2|3|4|5|6|\n",
    "|:--:|:--:|:--:|:--:|:--:|:--:|:--:|\n",
    "|確率|1/6|1/6|1/6|1/6|1/6|1/6|"
   ]
  },
  {
   "cell_type": "markdown",
   "metadata": {},
   "source": [
    "## 性質の異なる確率変数\n",
    "- <b>離散型確率変数</b>  \n",
    "変数の数値に連続性がない場合  \n",
    "(サイコロの目、コインの裏表)  \n",
    "\n",
    "    \n",
    "- <b>連続型確率変数</b>  \n",
    "変数の数値に連続性がある場合  \n",
    "(温度、長さ、角度、重さ)  \n",
    "こちらはイメージしにくい.確率変数を点として捉えられない  \n",
    "\n",
    "\n",
    "例えば以下のダーツが    \n",
    "- 0～90degの範囲に命中する確率は算出可能(25%)  \n",
    "- 90degの点に命中する確率は算出不可(<strong>1/360ではない</strong>)  \n",
    "\n",
    "<img src=\"./study3_files/fukiya.png\" width=400px>  \n",
    "  \n",
    "  \n",
    "なぜなら、指定した90degの角度とは90.0000...であり、90.00001でもなければ89.9999でもない。  \n",
    "つまり角度(分母)を無限に分割できて、かつ指定した角度(分子)が特定の値を取るため、限りなく0に近い値 = 0となる  "
   ]
  },
  {
   "cell_type": "code",
   "execution_count": 6,
   "metadata": {},
   "outputs": [
    {
     "data": {
      "image/png": "[encoded data removed]",
      "text/plain": [
       "<Figure size 432x288 with 1 Axes>"
      ]
     },
     "metadata": {
      "needs_background": "light"
     },
     "output_type": "display_data"
    }
   ],
   "source": [
    "saikoro = [1,2,3,4,5,6]\n",
    "kakuritu = 1/len(saikoro)\n",
    "\n",
    "data = np.array(saikoro)\n",
    "fig = plt.figure()\n",
    "ax = fig.add_subplot(1, 1, 1)\n",
    "ax.bar(saikoro,kakuritu)\n",
    "ax.set_ylim([0,0.3])\n",
    "ax.set_xlim([0,7])\n",
    "plt.title(\"離散型確率分布(サイコロの目)\")\n",
    "plt.xlabel(\"確率変数(出目)\")\n",
    "plt.ylabel(\"確率\")\n",
    "plt.show()"
   ]
  },
  {
   "cell_type": "markdown",
   "metadata": {},
   "source": [
    "離散型確率分布：X軸に離散確率変数,Y軸に確率を取るグラフ \n",
    "\n",
    "\n",
    "各確率変数×確率の総和が1になる特徴がある\n",
    "<img src=\"./study3_files/sikorokakuritu.png\">"
   ]
  },
  {
   "cell_type": "markdown",
   "metadata": {},
   "source": [
    "## 連続型確率分布はどう表現するか    \n",
    "上述の通り、連続型確率変数の場合は確率変数がある一点の値をとる確率は限りなく0になるため、縦軸は確率ではなく「確率密度」を使用する。  \n",
    "  \n",
    "確率密度は定義域内における確率変数値の「相対的な出やすさ」を表し、関数で表される。  \n",
    "\n",
    "\n",
    ">例) 確率変数 <b>X</b>が0から3までの実数を取る場合、次のような確率密度関数を定義する  \n",
    "\n",
    "$$ f(x) = \\Biggl\\{ \\begin{matrix} \\frac{2}{9}x (0<=x<=3) \\\\ 0 (x<0, 3< x)  \\end{matrix}  $$"
   ]
  },
  {
   "cell_type": "code",
   "execution_count": 7,
   "metadata": {},
   "outputs": [
    {
     "data": {
      "image/png": "[encoded data removed]",
      "text/plain": [
       "<Figure size 432x288 with 1 Axes>"
      ]
     },
     "metadata": {
      "needs_background": "light"
     },
     "output_type": "display_data"
    }
   ],
   "source": [
    "N = 1000\n",
    "xmin = -2\n",
    "xmax = 5\n",
    "def f(x):\n",
    "   if x < 0 or 3 < x: return 0\n",
    "   else: return 2/9 * x\n",
    "\n",
    "p = np.linspace( xmin, xmax, N)\n",
    "fig, ax = plt.subplots()\n",
    "ax.plot( p, [f(p[k]) for k in range(N)] )\n",
    "\n",
    "ax.set_xlim(-2, 5)\n",
    "ax.set_ylim(-0, 1)\n",
    "ax.grid(True)\n",
    "plt.title(\"連続型確率分布(例)\")\n",
    "plt.xlabel(\"確率変数\")\n",
    "plt.ylabel(\"確率密度\")\n",
    "plt.show()"
   ]
  },
  {
   "cell_type": "markdown",
   "metadata": {},
   "source": [
    "$ f(1) = \\frac{2}{9} ,  f(3) = \\frac{2}{3} $であることから確率変数はP(1)よりもP(3)が「相対的に出やすい」といえる  \n",
    "\n",
    "<b>連続型確率変数では確率密度は実数だが、特定の値を取る確率は限りなく0なので注意</b>"
   ]
  },
  {
   "cell_type": "markdown",
   "metadata": {},
   "source": [
    "## 連続型確率分布における「確率」\n",
    "<img src=\"./study3_files/renzokubun.png\">  \n",
    "積分で求められる  \n",
    "\n",
    "$$ P( y \\leqq  x \\leqq b) = \\int_{a}^{b}f(x)dx $$　\n",
    "\n",
    "また確率のルールでは「全事象が起こる確率は1である」  \n",
    "\n",
    "$$ \\int_{-\\infty}^{\\infty}f(x)dx = 1 $$"
   ]
  },
  {
   "cell_type": "markdown",
   "metadata": {},
   "source": [
    "## 累積分布関数  \n",
    "確率変数$X$がある値$x$以下($X \\leqq x$)となる確率を導く関数  \n",
    "\n",
    "$$F(x) = P(X \\leqq x)$$\n",
    "\n",
    "\n",
    " - <b>離散型確率変数の場合</b>\n",
    "\n",
    "\n",
    "$$F(x) = P(X \\leqq x) = \\sum_{X\\leqq x}{P(X)}　$$  \n",
    "\n",
    ">例)サイコロの目が4以下の累積確率分布は \n",
    "\n",
    "\n",
    "$$ \\begin{align}　P(X \\leqq 4) &= \\sum_{X\\leqq 4}{P(X)}  \\\\\n",
    "&= P(1) + P(2) + P(3) + P(4) \\\\\n",
    "&= \\frac{1}{6} + \\frac{1}{6} + \\frac{1}{6} + \\frac{1}{6}　\\\\\n",
    "&= \\frac{4}{6}\n",
    "\\end{align}\n",
    "$$\n",
    "\n",
    "\n",
    " - <b>連続型確率変数の場合</b>  \n",
    "\n",
    "$$ 　F(x) = P(X \\leqq x) = \\int_{-\\infty}^{x}f(t)dt $$  \n",
    "\n",
    ">青いグラフのような確率密度関数：$f(x)$の積分$F(x)$となる\n",
    "\n",
    "<img src=\"./study3_files/renzoku.png\">  \n",
    "\n",
    ">この時 $(b<X)$ では $F(X) = 1$となる  \n",
    ">また $(a<X)$ では $F(X) = 0$ となる\n",
    ">(全ての事象の確率は1だがら)"
   ]
  },
  {
   "cell_type": "markdown",
   "metadata": {},
   "source": [
    "## 期待値  \n",
    "\n",
    "<b>期待値のイメージは確率を加味した時の変数の平均値</b>  \n",
    "<b>通常のデータサンプルと違い、各変数に確率で重み付けをする</b>\n",
    "\n",
    "- <b>離散型確率変数の期待値</b>  \n",
    "\n",
    "確率変数Xの期待値は $E(X)$と表す  \n",
    "Xが取りうる値を1からnとすると、$x_i$は確率変数、$p_i$は確率を表す\n",
    "\n",
    "$$ E(X) = \\sum_{X = 1}^{n}  x_i \\times p_i $$\n",
    "\n",
    "\n",
    "- <b>連続型確率変数の期待値</b>  \n",
    "\n",
    "$$ E(X) = \\int_{-\\infty}^{\\infty}xf(x)dx $$\n",
    "\n",
    "\n",
    "確率変数の取りうる全範囲におけるf(X)の積分と変数xの積\n",
    "\n",
    "例)確率密度関数$f(x)=\\frac{1}{6}$において$(0 \\leqq X \\leqq 6)$の時\n",
    "\n",
    "$$\\begin{align} E(X) &= \\int_{0}^{6}xf(x)dx \\\\ \n",
    "&= \\int_{0}^{6}x\\frac{1}{6}dx \\end{align}\n",
    "$$"
   ]
  },
  {
   "cell_type": "code",
   "execution_count": 8,
   "metadata": {},
   "outputs": [
    {
     "data": {
      "image/png": "[encoded data removed]",
      "text/latex": [
       "$\\displaystyle 0.0833333333333333 x^{2}$"
      ],
      "text/plain": [
       "                    2\n",
       "0.0833333333333333⋅x "
      ]
     },
     "execution_count": 8,
     "metadata": {},
     "output_type": "execute_result"
    }
   ],
   "source": [
    "# 積分計算\n",
    "sym.integrate(1/6 * x)"
   ]
  },
  {
   "cell_type": "code",
   "execution_count": 9,
   "metadata": {},
   "outputs": [
    {
     "data": {
      "image/png": "[encoded data removed]",
      "text/latex": [
       "$\\displaystyle 3.0$"
      ],
      "text/plain": [
       "3.00000000000000"
      ]
     },
     "execution_count": 9,
     "metadata": {},
     "output_type": "execute_result"
    }
   ],
   "source": [
    "# $x^2のx(0,6)の積分は21\n",
    "sym.integrate(1/6 * x,(x,0,6))"
   ]
  },
  {
   "cell_type": "code",
   "execution_count": 10,
   "metadata": {},
   "outputs": [
    {
     "data": {
      "image/png": "[encoded data removed]",
      "text/plain": [
       "<Figure size 432x288 with 1 Axes>"
      ]
     },
     "metadata": {
      "needs_background": "light"
     },
     "output_type": "display_data"
    }
   ],
   "source": [
    "N = 100\n",
    "xmin = 0\n",
    "xmax = 10\n",
    "def f(x):\n",
    "   return 1/6 * x\n",
    "\n",
    "p = np.linspace( xmin, xmax, N)\n",
    "fig, ax = plt.subplots()\n",
    "ax.plot( p, [f(p[k]) for k in range(N)] )\n",
    "\n",
    "ax.set_xlim(0, 10)\n",
    "ax.set_ylim(0, 2)\n",
    "ax.grid(True)\n",
    "plt.title(\"確率密度関数 $ f(x) = 1/6x $\")\n",
    "plt.xlabel(\"確率変数\")\n",
    "plt.ylabel(\"確率密度\")\n",
    "plt.show()"
   ]
  },
  {
   "cell_type": "markdown",
   "metadata": {},
   "source": [
    "上記グラフ$(0 \\leqq X \\leqq 6)$の面積：期待値 = $ 3 $"
   ]
  },
  {
   "cell_type": "markdown",
   "metadata": {},
   "source": [
    "## 確率変数の分散  \n",
    "\n",
    "\n",
    "<b>通常のデータサンプルでは、分散は各データと平均との差の2乗の総和</b>  \n",
    "<b>確率においては、各変数と期待値の差に対し、確率で重み付けをしてから総和をとる</b>  \n",
    "\n",
    "\n",
    "\n",
    "- <b>離散型確率変数の場合</b>\n",
    "\n",
    "Xの期待値を$E(X)=μ$\n",
    "$$ V(X) = \\sum_{i=1}^{n}(x_i - μ)^2p_i  $$  \n",
    "\n",
    "\n",
    "例）サイコロの期待値 E(X)と分散V(X)\n",
    "\n",
    "$$ E(X) = \\sum_{i=1}^{6}\\frac{1}{6}i   $$"
   ]
  },
  {
   "cell_type": "code",
   "execution_count": 11,
   "metadata": {},
   "outputs": [
    {
     "name": "stdout",
     "output_type": "stream",
     "text": [
      "E(x) =3.5\n"
     ]
    }
   ],
   "source": [
    "# シグマの解の公式を知らないのでプログラムで解く\n",
    "result = 0\n",
    "for i in range(1, 7):\n",
    "    result += 1/6 * i\n",
    "print(\"E(x) =\" + str(result))"
   ]
  },
  {
   "cell_type": "markdown",
   "metadata": {},
   "source": [
    "分散V(X)とする  \n",
    "$E(X) = 3.5$  \n",
    "サイコロの各変数（出目）の確率は全て1/6なので $p_i = 1/6$\n",
    "$$ V(X) = \\sum_{i=1}^{6}((i - E(x))^2p_i $$\n",
    "$$ V(X) = \\sum_{i=1}^{6}(i - 3.5)^2 × 1/6 $$"
   ]
  },
  {
   "cell_type": "code",
   "execution_count": 12,
   "metadata": {},
   "outputs": [
    {
     "data": {
      "image/png": "[encoded data removed]",
      "text/latex": [
       "$\\displaystyle 17.5$"
      ],
      "text/plain": [
       "17.5"
      ]
     },
     "execution_count": 12,
     "metadata": {},
     "output_type": "execute_result"
    }
   ],
   "source": [
    "# 同じくプログラムで解く\n",
    "result = 0\n",
    "for i in range(1, 7):\n",
    "    result += (i - 3.5)**2\n",
    "result"
   ]
  },
  {
   "cell_type": "code",
   "execution_count": 13,
   "metadata": {},
   "outputs": [
    {
     "data": {
      "text/plain": [
       "Fraction(35, 12)"
      ]
     },
     "execution_count": 13,
     "metadata": {},
     "output_type": "execute_result"
    }
   ],
   "source": [
    "Fraction(175,60)"
   ]
  },
  {
   "cell_type": "markdown",
   "metadata": {},
   "source": [
    "= 12/35"
   ]
  },
  {
   "cell_type": "markdown",
   "metadata": {},
   "source": [
    "- <b>連続型確率変数の場合</b>  \n",
    "\n",
    "Xの期待値を$E(X)=μ$\n",
    "\n",
    "$$ V(X) = \\int_{-\\infty}^{\\infty}(x - μ)^2f(x)dx   $$\n",
    "\n",
    "難しい…説明不可"
   ]
  },
  {
   "cell_type": "markdown",
   "metadata": {
    "tags": []
   },
   "source": [
    "### 参考サイト  \n",
    "- Pythonnによる統計処理  \n",
    "[PythonエンジニアによるPython3学習サイト](https://www.python.ambitious-engineer.com/archives/category/application/data_analysis)  \n",
    "  \n",
    "- 統計学  \n",
    "[統計WEB](https://bellcurve.jp/statistics/)"
   ]
  },
  {
   "cell_type": "code",
   "execution_count": null,
   "metadata": {},
   "outputs": [],
   "source": []
  }
 ],
 "metadata": {
  "kernelspec": {
   "display_name": "Python 3 (ipykernel)",
   "language": "python",
   "name": "python3"
  },
  "language_info": {
   "codemirror_mode": {
    "name": "ipython",
    "version": 3
   },
   "file_extension": ".py",
   "mimetype": "text/x-python",
   "name": "python",
   "nbconvert_exporter": "python",
   "pygments_lexer": "ipython3",
   "version": "3.10.5"
  },
  "vscode": {
   "interpreter": {
    "hash": "949777d72b0d2535278d3dc13498b2535136f6dfe0678499012e853ee9abcab1"
   }
  }
 },
 "nbformat": 4,
 "nbformat_minor": 4
}
