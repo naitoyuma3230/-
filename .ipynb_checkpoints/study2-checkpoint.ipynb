{
 "cells": [
  {
   "cell_type": "markdown",
   "metadata": {},
   "source": [
    "### 参考サイト  \n",
    "- Pythonnによる統計処理  \n",
    "[PythonエンジニアによるPython3学習サイト](https://www.python.ambitious-engineer.com/archives/category/application/data_analysis)  \n",
    "  \n",
    "- 統計学  \n",
    "[統計WEB](https://bellcurve.jp/statistics/)"
   ]
  },
  {
   "cell_type": "code",
   "execution_count": 79,
   "metadata": {},
   "outputs": [],
   "source": [
    "import pandas as pd\n",
    "import numpy as np\n",
    "import matplotlib.pyplot as plt\n",
    "from scipy import stats"
   ]
  },
  {
   "cell_type": "markdown",
   "metadata": {},
   "source": [
    "## データのばらつきに関する統計量\n",
    ">平均値や中央値など中心が同じでもばらつきが異なる2つのデータ"
   ]
  },
  {
   "cell_type": "markdown",
   "metadata": {},
   "source": [
    "![img](test_files/test_30.png)"
   ]
  },
  {
   "cell_type": "markdown",
   "metadata": {},
   "source": [
    "## 分散  \n",
    "各データの値が平均値からどのくらい離れているか、各データ値の平均との差を求めて2乗した後、更にその合計の平均値を出したもの  \n",
    "平均との差は正負が入り混じっているため、2乗して正に数に統一する\n",
    "<img src=\"./test_files/bunsan.png\" width=\"300\">  \n",
    "言葉にするとややこしい"
   ]
  },
  {
   "cell_type": "markdown",
   "metadata": {},
   "source": [
    "### 実際に算出してみる  \n",
    "サンプルデータ：ある男子中学校の体型データ(ネットで拾った)\n",
    "- height:身長\n",
    "- weight:体重\n",
    "- hand_length:手掌の長さ"
   ]
  },
  {
   "cell_type": "code",
   "execution_count": 31,
   "metadata": {},
   "outputs": [
    {
     "data": {
      "text/html": [
       "<div>\n",
       "<style scoped>\n",
       "    .dataframe tbody tr th:only-of-type {\n",
       "        vertical-align: middle;\n",
       "    }\n",
       "\n",
       "    .dataframe tbody tr th {\n",
       "        vertical-align: top;\n",
       "    }\n",
       "\n",
       "    .dataframe thead th {\n",
       "        text-align: right;\n",
       "    }\n",
       "</style>\n",
       "<table border=\"1\" class=\"dataframe\">\n",
       "  <thead>\n",
       "    <tr style=\"text-align: right;\">\n",
       "      <th></th>\n",
       "      <th>height</th>\n",
       "      <th>weight</th>\n",
       "      <th>hand_length</th>\n",
       "    </tr>\n",
       "  </thead>\n",
       "  <tbody>\n",
       "    <tr>\n",
       "      <th>0</th>\n",
       "      <td>170.9</td>\n",
       "      <td>66.1</td>\n",
       "      <td>74.1</td>\n",
       "    </tr>\n",
       "    <tr>\n",
       "      <th>1</th>\n",
       "      <td>175.1</td>\n",
       "      <td>60.9</td>\n",
       "      <td>73.6</td>\n",
       "    </tr>\n",
       "    <tr>\n",
       "      <th>2</th>\n",
       "      <td>170.7</td>\n",
       "      <td>71.5</td>\n",
       "      <td>77.7</td>\n",
       "    </tr>\n",
       "    <tr>\n",
       "      <th>3</th>\n",
       "      <td>171.7</td>\n",
       "      <td>51.8</td>\n",
       "      <td>75.6</td>\n",
       "    </tr>\n",
       "    <tr>\n",
       "      <th>4</th>\n",
       "      <td>170.8</td>\n",
       "      <td>58.2</td>\n",
       "      <td>73.3</td>\n",
       "    </tr>\n",
       "    <tr>\n",
       "      <th>...</th>\n",
       "      <td>...</td>\n",
       "      <td>...</td>\n",
       "      <td>...</td>\n",
       "    </tr>\n",
       "    <tr>\n",
       "      <th>95</th>\n",
       "      <td>169.8</td>\n",
       "      <td>63.2</td>\n",
       "      <td>73.8</td>\n",
       "    </tr>\n",
       "    <tr>\n",
       "      <th>96</th>\n",
       "      <td>165.8</td>\n",
       "      <td>55.0</td>\n",
       "      <td>69.3</td>\n",
       "    </tr>\n",
       "    <tr>\n",
       "      <th>97</th>\n",
       "      <td>166.8</td>\n",
       "      <td>58.8</td>\n",
       "      <td>70.4</td>\n",
       "    </tr>\n",
       "    <tr>\n",
       "      <th>98</th>\n",
       "      <td>178.8</td>\n",
       "      <td>69.0</td>\n",
       "      <td>74.9</td>\n",
       "    </tr>\n",
       "    <tr>\n",
       "      <th>99</th>\n",
       "      <td>167.5</td>\n",
       "      <td>58.7</td>\n",
       "      <td>73.0</td>\n",
       "    </tr>\n",
       "  </tbody>\n",
       "</table>\n",
       "<p>100 rows × 3 columns</p>\n",
       "</div>"
      ],
      "text/plain": [
       "    height  weight  hand_length\n",
       "0    170.9    66.1         74.1\n",
       "1    175.1    60.9         73.6\n",
       "2    170.7    71.5         77.7\n",
       "3    171.7    51.8         75.6\n",
       "4    170.8    58.2         73.3\n",
       "..     ...     ...          ...\n",
       "95   169.8    63.2         73.8\n",
       "96   165.8    55.0         69.3\n",
       "97   166.8    58.8         70.4\n",
       "98   178.8    69.0         74.9\n",
       "99   167.5    58.7         73.0\n",
       "\n",
       "[100 rows x 3 columns]"
      ]
     },
     "execution_count": 31,
     "metadata": {},
     "output_type": "execute_result"
    }
   ],
   "source": [
    "df = pd.read_csv('excel_data01mod.csv')\n",
    "df"
   ]
  },
  {
   "cell_type": "markdown",
   "metadata": {},
   "source": [
    ">ヒストグラム作成"
   ]
  },
  {
   "cell_type": "code",
   "execution_count": 66,
   "metadata": {},
   "outputs": [
    {
     "data": {
      "image/png": "[encoded data removed]",
      "text/plain": [
       "<Figure size 432x288 with 1 Axes>"
      ]
     },
     "metadata": {
      "needs_background": "light"
     },
     "output_type": "display_data"
    },
    {
     "data": {
      "image/png": "[encoded data removed]",
      "text/plain": [
       "<Figure size 432x288 with 1 Axes>"
      ]
     },
     "metadata": {
      "needs_background": "light"
     },
     "output_type": "display_data"
    },
    {
     "data": {
      "image/png": "[encoded data removed]",
      "text/plain": [
       "<Figure size 432x288 with 1 Axes>"
      ]
     },
     "metadata": {
      "needs_background": "light"
     },
     "output_type": "display_data"
    },
    {
     "name": "stdout",
     "output_type": "stream",
     "text": [
      "身長の分散:20.46cm^2\n",
      "体重の分散:41.89cm^2\n",
      "手掌の長さの分散:7.56cm^2\n"
     ]
    }
   ],
   "source": [
    "height = np.array(df[\"height\"])\n",
    "weight = np.array(df[\"weight\"])\n",
    "hand_length = np.array(df[\"hand_length\"])\n",
    "\n",
    "fig1 = plt.figure()\n",
    "fig2 = plt.figure()\n",
    "fig3 = plt.figure()\n",
    "\n",
    "# 描画領域の設定\n",
    "ax1 = fig1.add_subplot(1, 1, 1)\n",
    "ax2 = fig2.add_subplot(1, 1, 1)\n",
    "ax3 = fig3.add_subplot(1, 1, 1)\n",
    "\n",
    "# グラフタイトル\n",
    "ax1.set_title('height')\n",
    "ax2.set_title('weight')\n",
    "ax3.set_title('hand')\n",
    "\n",
    "ax1.hist(height, bins=\"auto\",  histtype='step')\n",
    "ax2.hist(weight, bins=\"auto\",  histtype='step')\n",
    "ax3.hist(hand_length, bins=\"auto\",  histtype='step')\n",
    "# グラフ描写\n",
    "plt.show()\n",
    "\n",
    "# 分散を算出\n",
    "print(\"身長の分散:\" + str(round(np.var(height),2)) + \"cm^2\")\n",
    "print(\"体重の分散:\" + str(round(np.var(weight),2))+ \"cm^2\")\n",
    "print(\"手掌の長さの分散:\" + str(round(np.var(hand_length),2)) + \"cm^2\")"
   ]
  },
  {
   "cell_type": "markdown",
   "metadata": {},
   "source": [
    "#### 分散だと差が2乗されててイメージしにくい...\n",
    "  \n",
    "## 標準偏差  \n",
    "<img src=\"./test_files/hyozyunhensa.png\" style=\"width:300px\">\n",
    "分散の平方を求める"
   ]
  },
  {
   "cell_type": "code",
   "execution_count": 64,
   "metadata": {},
   "outputs": [
    {
     "name": "stdout",
     "output_type": "stream",
     "text": [
      "身長の標準偏差:±4.52cm\n",
      "体重の分標準偏差:±6.47cm\n",
      "手掌の長さの標準偏差:±2.75cm\n"
     ]
    }
   ],
   "source": [
    "print(\"身長の標準偏差:±\" + str(round(np.std(height),2)) + \"cm\")\n",
    "print(\"体重の分標準偏差:±\" + str(round(np.std(weight),2))+ \"cm\")\n",
    "print(\"手掌の長さの標準偏差:±\" + str(round(np.std(hand_length),2)) + \"cm\")"
   ]
  },
  {
   "cell_type": "markdown",
   "metadata": {},
   "source": [
    "### 標準偏差が一番小さいから手掌の長さが一番ばらつきが少ない？  \n",
    "分散や標準偏差はデータの大きさに依存するためこの結論は不適切\n",
    "異なるデータに対しては単純に標準偏差でばらつきを評価することが適切でない"
   ]
  },
  {
   "cell_type": "markdown",
   "metadata": {},
   "source": [
    "### 変動係数\n",
    "<img src=\"./test_files/hendokeisu.png\" style=\"width=300px\">\n",
    "標準偏差を平均値で割る\n",
    "\n",
    "\n",
    "もともとの大きさ(平均値)に対する相対的な値となるので、データが異なっても比較可能"
   ]
  },
  {
   "cell_type": "code",
   "execution_count": 81,
   "metadata": {},
   "outputs": [
    {
     "name": "stdout",
     "output_type": "stream",
     "text": [
      "身長の変動係数:0.03\n",
      "体重の変動係数:0.11\n",
      "手掌の長さの変動係数:0.04\n"
     ]
    }
   ],
   "source": [
    "# 変動係数はnumpyではなくscipyを使用する\n",
    "print(\"身長の変動係数:\" + str(round(stats.variation(height),2)))\n",
    "print(\"体重の変動係数:\" + str(round(stats.variation(weight),2)))\n",
    "print(\"手掌の長さの変動係数:\" + str(round(stats.variation(hand_length),2)))"
   ]
  },
  {
   "cell_type": "markdown",
   "metadata": {},
   "source": [
    "#### もとの数値の大きさを加味すると身長の方がばらつきが少ない"
   ]
  }
 ],
 "metadata": {
  "kernelspec": {
   "display_name": "Python 3 (ipykernel)",
   "language": "python",
   "name": "python3"
  },
  "language_info": {
   "codemirror_mode": {
    "name": "ipython",
    "version": 3
   },
   "file_extension": ".py",
   "mimetype": "text/x-python",
   "name": "python",
   "nbconvert_exporter": "python",
   "pygments_lexer": "ipython3",
   "version": "3.10.4"
  }
 },
 "nbformat": 4,
 "nbformat_minor": 4
}
