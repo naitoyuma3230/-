{
 "cells": [
  {
   "cell_type": "markdown",
   "id": "25c2e637-bf52-42fe-a680-ae561059524e",
   "metadata": {},
   "source": [
    "## 圧力  \n",
    "\n",
    "\n",
    "$$ P = \\frac{F}{S}[Pa] $$\n",
    "$$ (N/m^2) $$\n",
    "\n",
    "「圧力」は面積との積をとってはじめて力(F)となる事に注意"
   ]
  },
  {
   "cell_type": "markdown",
   "id": "c8b6bbfa-1a93-4f82-a6b6-bda52097ad10",
   "metadata": {},
   "source": [
    "### 水圧  \n",
    "- 水圧は水面からの深さによってのみ決まる  \n",
    "- 水圧による力は面に対して垂直に働く  \n",
    "\n",
    "大気圧と水圧  \n",
    "<img src=\"./buturi3/atu.png\">"
   ]
  },
  {
   "cell_type": "markdown",
   "id": "7dd8d0ad-1133-4b95-b044-25b0d905331c",
   "metadata": {},
   "source": [
    "水圧の性質を理解するために、水中から$S × h$の直方体を仮想的に切り出して考える  \n",
    "\n",
    "\n",
    "\n",
    "【直方体にかかる重力】  \n",
    "仮想直方体の重さ：密度(ρ)×体積と重心加速度との積が重力となる\n",
    "\n",
    "$$ F = \\rho Shg $$\n",
    "\n",
    "【直方体にかかる大気圧による力】\n",
    "$$ P_0S $$  \n",
    "\n",
    "【直方体にかかる水圧による力】  \n",
    "水圧をPとする\n",
    "\n",
    "$$ PS $$\n",
    "\n",
    "力のつり合いより\n",
    "\n",
    "$$ PS = \\rho Shg + P_0S $$\n",
    ">$$ P = \\rho hg + P_0 $$  \n",
    "\n",
    "\n",
    "<img src=\"./buturi3/suiatu.png\">\n",
    "\n",
    "物体は直上の全ての大気の重さと水中であれば、液体の重さを受ける  \n",
    "受けた重さに対し、物体を静止して留めようとする力が大気圧や水圧となる\n",
    "\n",
    "なので、空気や水の重さに比例して圧力は増す"
   ]
  },
  {
   "cell_type": "markdown",
   "id": "3c412e23-51e3-4e3f-8516-cf6856a0e1c0",
   "metadata": {},
   "source": [
    "## 浮力  \n",
    "\n",
    "水圧による力の差\n",
    "\n",
    "<img src=\"./buturi3/hu.png\">  \n",
    "\n",
    "水中に沈めた長方形Shの浮力について考える"
   ]
  },
  {
   "cell_type": "markdown",
   "id": "0870ecf0-fbc2-4711-908b-44d6d805cb5e",
   "metadata": {},
   "source": [
    "【直方体の上方向の力】  \n",
    "$$ P = P_0 + \\rho(d+h)g $$\n",
    "$$ F = \\{P_0 + \\rho(d+h)g\\}S  $$  \n",
    "\n",
    "$$ F = P_0S + \\rho(d+h)Sg  $$\n",
    "\n",
    "【直方体の下方向の力】  \n",
    "$$ F = P_0S + \\rho Sdg $$\n",
    "\n",
    "【上方向-下方向の差が浮力】  \n",
    "$$ F = P_0S + \\rho(d+h)gS -(P_0 + \\rho dg)S  $$\n",
    "\n",
    "$$ F=  \\rho hgS $$\n",
    "\n",
    "物体の体積をVとする\n",
    "\n",
    "$$ F = \\rho Vg $$\n",
    "\n",
    "<p>浮力を求める式では下向きに対する力に直方体Shの重力も、直方体Sh分の水の重力も含んでいない。そのため下面が受ける上向きの水圧は直方体Shの重力分大きくなる</p>\n",
    "\n",
    "\n",
    ">アルキメデスの原理  \n",
    "><b>浮力はその物体が押しのけた液体の重さに等しい</b>"
   ]
  },
  {
   "cell_type": "markdown",
   "id": "f5f6c534-3e8b-4122-b449-b9779cdff2c8",
   "metadata": {},
   "source": [
    "### 問題：水に浮く物質\n",
    "\n",
    "<img src=\"./buturi3/suiatu2.png\">"
   ]
  },
  {
   "cell_type": "markdown",
   "id": "e580af12-7ef3-4362-9401-06c0b76f9175",
   "metadata": {},
   "source": [
    "(1)Xを求めよ  \n",
    "\n",
    "【長方形にかかる重力】\n",
    "$$ F = \\rho_0Shg $$\n",
    "\n",
    "【長方形にかかる浮力】\n",
    "$$ F = \\rho xSg $$\n",
    "\n",
    "力のつり合いより\n",
    "\n",
    "$$ \\rho_0Shg  = \\rho xSg $$\n",
    "$$ x = \\frac{\\rho_0}{\\rho}h $$"
   ]
  },
  {
   "cell_type": "markdown",
   "id": "a50ec11c-9c8d-441f-8085-c63908f990ca",
   "metadata": {},
   "source": [
    "## エネルギー  \n",
    "\n",
    "「仕事」をする能力\n",
    "\n",
    "### 仕事（：W）  \n",
    "どれだけの力の大きさでどれだけ物体を移動させたか方向も含んで評価する量 \n",
    "\n",
    "$$ W = Fl\\cos\\theta [J] $$\n",
    "<p style=\"text-align:center\">$\\theta$は移動方向と力の方向のなす角</p>\n"
   ]
  },
  {
   "cell_type": "code",
   "execution_count": null,
   "id": "cfe2fe1f-3aee-457c-987b-4ab4093faee4",
   "metadata": {},
   "outputs": [],
   "source": []
  }
 ],
 "metadata": {
  "kernelspec": {
   "display_name": "Python 3 (ipykernel)",
   "language": "python",
   "name": "python3"
  },
  "language_info": {
   "codemirror_mode": {
    "name": "ipython",
    "version": 3
   },
   "file_extension": ".py",
   "mimetype": "text/x-python",
   "name": "python",
   "nbconvert_exporter": "python",
   "pygments_lexer": "ipython3",
   "version": "3.10.5"
  }
 },
 "nbformat": 4,
 "nbformat_minor": 5
}
