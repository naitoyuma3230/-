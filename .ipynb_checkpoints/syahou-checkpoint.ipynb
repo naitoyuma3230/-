{
 "cells": [
  {
   "cell_type": "markdown",
   "id": "a0fd4df7-9b15-4b4d-920a-d52681531067",
   "metadata": {},
   "source": [
    "## 斜方投射のシミュレーション  \n",
    "\n",
    "<b>1. 下の問題について考える  \n",
    "   2. 投射角度$\\theta$,初速 $v_o$ の入力を受け、最高点h,到達距離OPを出力する関数を作成する</b>  \n",
    "\n",
    "\n",
    "\n",
    "<img src=\"./syahou/mondai.png\">"
   ]
  },
  {
   "cell_type": "code",
   "execution_count": null,
   "id": "db019985-ed8d-4279-bc94-560c718cdaa4",
   "metadata": {},
   "outputs": [],
   "source": [
    "import math #mathのインポート\n",
    "import matplotlib.pyplot as plt #matplotlib.pyplotのインポート\n",
    "\n",
    "x=0  #x座標の初期値\n",
    "y=0  #y座標の初期値\n",
    "x_plot=[]  #x座標を保存するリストを作成、初期化\n",
    "y_plot=[]  #y座標を保存するリストを作成、初期化\n",
    "\n",
    "\n",
    "theta_initial=float(input('出射角度(°)を入力')) #出射角度(Θ0)の入力\n",
    "v_initial=float(input('初速度(m/s)を入力')) #初速度(v0)の入力\n",
    "\n",
    "tan_theta_initial=math.tan(math.radians(theta_initial)) #tan(Θ0)の計算\n",
    "cos_theta_initial_squared=pow(math.cos(math.radians(theta_initial)),2) #cos^2(Θ0)の計算\n",
    "\n",
    "while y >= 0: #yが0以上の間以下の処理を繰り返す\n",
    "    y=tan_theta_initial*x-9.8/(2*v_initial**2*cos_theta_initial_squared)*x**2 #y座標の計算\n",
    "    #print(x,y)\n",
    "    x_plot.append(x)\n",
    "    y_plot.append(y)\n",
    "    x=x+1 #xに1を加える\n",
    "\n",
    "plt.scatter(x_plot, y_plot) #x_plot vs y_plotで散布図を描画\n",
    "plt.show()"
   ]
  },
  {
   "cell_type": "code",
   "execution_count": null,
   "id": "f4035922-e041-43b5-8965-b1b244f6ce1e",
   "metadata": {},
   "outputs": [],
   "source": []
  }
 ],
 "metadata": {
  "kernelspec": {
   "display_name": "Python 3 (ipykernel)",
   "language": "python",
   "name": "python3"
  },
  "language_info": {
   "codemirror_mode": {
    "name": "ipython",
    "version": 3
   },
   "file_extension": ".py",
   "mimetype": "text/x-python",
   "name": "python",
   "nbconvert_exporter": "python",
   "pygments_lexer": "ipython3",
   "version": "3.10.5"
  }
 },
 "nbformat": 4,
 "nbformat_minor": 5
}
