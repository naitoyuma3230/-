{
 "cells": [
  {
   "cell_type": "markdown",
   "id": "7047e91b-5b0c-4c52-8af8-beb39ddf7c85",
   "metadata": {},
   "source": [
    "# 力学の原理  \n",
    "## ニュートンの運動方程式　\n",
    "\n",
    "## $$\\\\ m\\vec{a}=\\vec{F}$$\n",
    "<p style=\"font-size:8px\">※ベクトルは方向を伴う大きさの単位</p>  \n",
    "\n",
    "例として  \n",
    "「動いている物体の力は質量と加速度に比例する」  \n",
    "「物体の動き(加速度)は、力の大きさに比例し、質量に反比例する」など"
   ]
  },
  {
   "cell_type": "markdown",
   "id": "82e914ce-62bc-425c-b3e0-c0db24871fd8",
   "metadata": {},
   "source": [
    "## 等加速度直線運動\n",
    "一定の加速度で運動する物体は以下を満たす\n",
    "\n",
    "位置$x$  \n",
    "速度$V$  \n",
    "初速度$V_0$  \n",
    "加速度$\\alpha$  \n",
    "時間$t$ とすると\n",
    "\n",
    "1．$ V = V_0 + at $  \n",
    "2．$ x = x_0 + V_0t + \\frac{1}{2}at^2 $  \n",
    "3．$V^2 - V_0^2 = 2a(x - x_0)$"
   ]
  },
  {
   "cell_type": "markdown",
   "id": "525d1fc1-eae5-4d84-b1b1-071a3bb641e5",
   "metadata": {},
   "source": [
    "<b>1.  初速に加速度と時間の積を加えると速度が求められる</b>"
   ]
  },
  {
   "cell_type": "markdown",
   "id": "419c9163-edfa-4299-96d9-080778b0ebcf",
   "metadata": {},
   "source": [
    "<b>2.  初期位置に初速度と時間の積(距離)を加えた位置から,さらに加速度分の距離を追加すると位置が求められる</b>  \n",
    "<img src=\"./syahou/sokudo.png\">\n",
    "\n",
    "上記グラフの面積を求めると距離が求められる  \n",
    "\n",
    "積分を使った解法として  \n",
    "速度を表す関数$v$を$t(時間)$で積分する  \n",
    "$$x = \\int vdt $$  \n",
    "\n",
    "$$ = V_0t + \\frac{1}{2}at^2 + C_2 $$  \n",
    "\n",
    "時間が0の時の位置は初期位置$x_0$となるため  \n",
    "$t = 0$の時$x = x_0$を上式に代入して$C_2 = x_0$が求められる\n",
    "\n",
    "よって $$ x = x_0 + V_0t + \\frac{1}{2}at^2 $$"
   ]
  },
  {
   "cell_type": "markdown",
   "id": "29aee2ce-23d7-4188-8fd2-d74122d7874f",
   "metadata": {},
   "source": [
    " <b>3.    1-2の連立方程式で時間を消す</b>  \n",
    " <img src=\"./syahou/k_sci_phy_1_2_8_1_image01.png\" width=400px>  \n",
    " \n",
    " よって  \n",
    " $$V^2 - V_0^2 = 2a(x - x_0)$$"
   ]
  },
  {
   "cell_type": "markdown",
   "id": "3315d35c-ae22-4040-a808-5bec6d710707",
   "metadata": {},
   "source": [
    "#### 基本問題\n",
    "<img src=\"./syahou/mondai.png\">"
   ]
  },
  {
   "cell_type": "markdown",
   "id": "1d373c5c-a61b-48d8-9b42-c80a050d5fc8",
   "metadata": {},
   "source": [
    "<b>問題に入る前に2次元の問題は1次元に分解して情報を整理する</b>  \n",
    "\n",
    "\n",
    "<b>1. 初速度$V_0$の分解</b>  \n",
    "三角関数を使い$V_0$をx成分、y成分に分解する  \n",
    "$ \\sin\\theta =  V_0x$ より $ x = V_0\\cos\\theta$  \n",
    "$ \\cos\\theta =  V_0y$ より $ y = V_0\\sin\\theta$"
   ]
  },
  {
   "cell_type": "markdown",
   "id": "2a0a22d2-d8d0-48ee-9dbc-4885f7d5c587",
   "metadata": {},
   "source": [
    "<b>2. $\\vec F$の分解</b>  \n",
    "ボールにかかる力は重力$mg$(質量m×重力加速度g)  \n",
    "→Y軸上のみ、ボール(m)に対して-gの加速度が生じる  \n",
    "<span style=\"font-size:8px\">重力加速度:gは通常$9.8m/s^2$</span> \n",
    "\n",
    "X軸上は力の作用はない"
   ]
  },
  {
   "cell_type": "markdown",
   "id": "eb6dcc10-9f55-4956-aa25-df40fecfd499",
   "metadata": {},
   "source": [
    "<b>3.運動方程式を立てる</b>  \n",
    "$m\\vec{a} = \\vec{F}$より  \n",
    "\n",
    "\n",
    "$m\\vec{a_x} = \\vec{F_x} $  \n",
    "$m\\vec{a_y} = \\vec{F_y} $  \n",
    "\n",
    "ベクトルが等しいという事大きさと方向が等しい  \n",
    "方向が等しいためX,Y成分に分解しても大きさは等しい\n",
    "\n",
    "ボールに加わる力はy成分に対する重力のみ  \n",
    "$ma_x = 0$(X軸)  \n",
    "$ma_y = -mg$(Y軸)  \n",
    "$a_x = 0$　　$a_y = -g$　となる  \n",
    "加速度aが0の場合、物体は等速直線運動を行う  \n",
    "加速度aが一定(定数)場合、物体は等加速度直線運動を行う\n",
    "\n",
    "\n",
    "<b>よってボールは  \n",
    ">X軸方向には初速度$V_0\\cos\\theta$の等速直線運動を行い、  \n",
    ">Y軸方向には初速度$V_0\\sin\\theta$の鉛直投げ上げ運動をする</b>"
   ]
  },
  {
   "cell_type": "markdown",
   "id": "381a344e-aca7-46fd-a6aa-2db18c861187",
   "metadata": {},
   "source": [
    "<b>これまでの内容から斜方投射の方程式が説明できる</b>  \n",
    ">[X軸上]  \n",
    ">①$V_x = V_0\\cos\\theta$   \n",
    ">②$x = V_0\\cos\\theta t$（X軸上は等速直線運動を行っているため)\n",
    "\n",
    "\n",
    ">[Y軸上]  \n",
    ">③$V_y = V_0\\sin\\theta-gt $(Y軸上は重力加速度によって初速から時間と共に減速する)  \n",
    ">④$y = V_0\\sin\\theta t - \\frac{1}{2}gt^2$($初期位置y_0＝0と加速度α＝-g$を代入)  \n",
    ">⑤$V_y^2 - V_0^2\\sin^2\\theta = -2gy$($初速V_0と加速度αと初期位置y_0を代入$)\n",
    "\n"
   ]
  },
  {
   "cell_type": "markdown",
   "id": "9de8cb32-aa4e-47bb-9e61-14f3988e460a",
   "metadata": {},
   "source": [
    "<b>(1)最高点に到達するまでの時間はいくらか？</b> \n",
    "\n",
    "\n",
    "<b>最高点ではY軸方向の速度が0になる</b>  \n",
    "よって速度$V_y = 0$  \n",
    "\n",
    "\n",
    "ボールにかかる力$ \\alpha_y = -g $  \n",
    "初速$ V_0y = V_0\\sin\\theta$\n",
    "\n",
    "①より  \n",
    "$V_y = V_0y - \\alpha t$  \n",
    "$0 = V_0\\sin\\theta -gt$  \n",
    "\n",
    "\n",
    ">答え・・・最高到達点までの時間は$ \\frac{V_0\\sin\\theta}{g} $"
   ]
  },
  {
   "cell_type": "markdown",
   "id": "09e57754-88f7-4800-b380-18634c23ff5a",
   "metadata": {},
   "source": [
    "(2)最高点はいくらか？\n",
    "\n",
    "位置を求める式  $$ y = y_0 + V_0t + \\frac{1}{2}at^2 $$  \n",
    "に(1)の解t=...を代入してもいいが、計算が長くなる…\n",
    "\n",
    "(1)と同じくY軸方向の速度$V_y = 0$の時  \n",
    "⑤より  \n",
    "$-V_0^2\\sin^2\\theta = -2gy$(この時、位置$y$が最高値となる)  \n",
    "\n",
    "\n",
    ">答え・・・最高到達点は$ \\frac{V_0^2\\sin^2\\theta}{2g}$"
   ]
  },
  {
   "cell_type": "markdown",
   "id": "1da8f1a7-facd-49b6-8484-b9937d402e03",
   "metadata": {},
   "source": [
    "<b>(3)OP(水平到達距離)はいくらか</b>  \n",
    "\n",
    "\n",
    "水平距離はX軸上の話だが、投射から落下という現象はY軸上でしか表現できない  \n",
    "\n",
    "\n",
    "<b>ボールが初期位置y=0から頂点に達し、再び$y=0$となるまでの時間tを求める</b>  \n",
    "\n",
    "④より  \n",
    "$ 0 = V_0\\sin\\theta t -\\frac{1}{2}gt^2$ \n",
    "\n",
    "$ t^2 - \\frac{2V_0\\sin\\theta t}{g} = 0$  \n",
    "$t(t - \\frac{2V_0\\sin\\theta}{g}) = 0$\n",
    "<span style=\"font-size:8px\">この形（$x(x-a) = 0$ で $x = 0,-a$と同じ形なので）</span>  \n",
    "\n",
    "$t=0 , \\frac{2V_0\\sin\\theta}{g} $  \n",
    "\n",
    "<b>ボールの位置がY軸上で0となる時間は　0,　$\\frac{2V_0\\sin\\theta}{g}$となる</b>  \n",
    "解が2つあるのは、最初の地点と落下地点の2点で$y = 0$を示すから…素晴らしい…  \n",
    "\n",
    "\n",
    "よって、X軸上で$t=\\frac{2V_0\\sin\\theta}{g}$の等速直線運動を行う場合の到達距離Xは②より  \n",
    "\n",
    "\n",
    "$x = \\frac{V_0\\cos\\theta × 2V_0\\sin\\theta}{g}$  \n",
    "\n",
    "$x = \\frac{V_0^2}{g}2\\sin\\theta\\cos\\theta$  \n",
    "\n",
    "倍角の公式より($\\sin 2\\theta = 2\\sin\\theta \\cos\\theta$)  \n",
    "\n",
    "$ x = \\frac{V_0^2}{g}\\sin2\\theta$\n",
    "\n",
    ">答え・・・OP(水平到達距離)は$ \\frac{V_0^2}{g}\\sin2\\theta$"
   ]
  },
  {
   "cell_type": "markdown",
   "id": "93c6a2b2-7bc3-4c8a-8112-2c3f9e93101e",
   "metadata": {},
   "source": [
    "<b>ちなみに最も水平到達距離が大きくなる時の角度$\\theta$は…</b>\n",
    "\n",
    "$V_0$と$g$は定数と考えると$\\sin2\\theta$が最大を示す角度となる"
   ]
  },
  {
   "cell_type": "code",
   "execution_count": 1,
   "id": "b5bcb272-d2e2-42d4-8852-b44a45a1ea74",
   "metadata": {},
   "outputs": [
    {
     "data": {
      "image/png": "[encoded data removed]",
      "text/plain": [
       "<Figure size 432x288 with 1 Axes>"
      ]
     },
     "metadata": {
      "needs_background": "light"
     },
     "output_type": "display_data"
    }
   ],
   "source": [
    "import matplotlib.pyplot as plt\n",
    "import numpy as np\n",
    "import sympy as sym\n",
    "from sympy.plotting import plot\n",
    "sym.init_printing(use_unicode=True)\n",
    "%matplotlib inline\n",
    "a, b, c, x, y = sym.symbols(\"a b c x y\")\n",
    "plt.rcParams['font.family'] = 'Noto Sans JP'\n",
    "\n",
    "x = np.linspace(0, 2*np.pi, 500)\n",
    "\n",
    "plt.plot(x,np.sin(x))\n",
    "plt.grid(True)\n",
    "plt.show()"
   ]
  },
  {
   "cell_type": "markdown",
   "id": "f73ced7e-de04-40b9-8cea-3225f1774130",
   "metadata": {},
   "source": [
    "$\\sin$の最大値は1のため  \n",
    "$\\sin2\\theta = 1$の時 $2\\theta = 90°$  \n",
    "よって\n",
    "$\\theta =45° $\n",
    "\n",
    "><b>ボール投げで水平到達距離が最も大きくなる投射角度は45°</b>  \n",
    "<span style=\"font-size:8px\">実際は空気抵抗があるので、39°～40°くらいが最適らしい</span>"
   ]
  },
  {
   "cell_type": "markdown",
   "id": "48c01c7e-655c-4bc6-be94-61586139025a",
   "metadata": {},
   "source": [
    "<b>(4)軌道の方程式$f(x)$を求めよ</b>  \n",
    "\n",
    "xとyの関係 $y=f(x)$ の形にする  \n",
    "\n",
    "②より  \n",
    "$x = V_0\\cos\\theta t$  \n",
    "$t = \\frac{x}{V_0\\cos\\theta}$  \n",
    "④に代入  \n",
    "$y = V_0\\sin\\theta \\frac{x}{V_0\\cos\\theta} - \\frac{1}{2}g (\\frac{x}{V_0\\cos\\theta})^2$  \n",
    "$y = \\sin\\theta \\frac{x}{\\cos\\theta} - \\frac{1}{2}g \\frac{x^2}{V_0^2\\cos^2\\theta}$  \n",
    "$y = \\frac{\\sin\\theta}{\\cos\\theta}x -  \\frac{g}{2V_0^2\\cos^2\\theta}x^2$  \n",
    "\n",
    "(三角関数より$\\frac{\\sin\\theta}{\\cos\\theta} = \\tan\\theta$)  \n",
    "\n",
    "$y =  -\\frac{g}{2V_0^2\\cos^2\\theta}x^2 + \\tan\\theta x$  ($y=ax^2+bx+c$の形)  \n",
    "\n",
    "\n",
    ">答え・・・$f(x) = y =  -\\frac{g}{2V_0^2\\cos^2\\theta}x^2 + \\tan\\theta x$\n",
    "\n",
    "$a < 0 $より\n",
    "<b>$f(x)$は上に凸な放物線を描く二次関数である</b>\n",
    "\n",
    "そのため頂点のy座標は$f(x)$の平方完成で求められ、その解は(2)の解$ \\frac{V_0^2\\sin^2\\theta}{2g}$と一致するはず…  \n",
    "\n",
    "つまり$f(x)$を平方完成すると\n",
    "$$ y =  -\\frac{g}{2V_0^2\\cos^2\\theta}(x - \\frac{V_0^2\\sin^2\\theta}{2g})^2 + q $$の形になる  \n",
    "\n",
    "見た感じ正しそうだが、長くなりそうなので計算はしない"
   ]
  },
  {
   "cell_type": "markdown",
   "id": "8fe26644-fef6-47dc-8e4a-7c607d52716a",
   "metadata": {},
   "source": [
    "#### 応用問題：モンキーハント  \n",
    "<img src=\"./syahou/saru.png\" width=400px>"
   ]
  },
  {
   "cell_type": "markdown",
   "id": "9f5838d1-172b-406a-94b5-eb28d47bcb7d",
   "metadata": {},
   "source": [
    "<b><情報の整理></b>\n",
    "    \n",
    "図では(a,b)の表記だが、αと被るので(L,H)とする\n",
    "\n",
    "<b>初速度$V_0$の分解</b>  \n",
    "$ V_x = V_0\\cos\\theta$  \n",
    "$V_y = V_0\\sin\\theta$\n",
    "\n",
    "<b>小球Pにかかる力</b>  \n",
    "Y成分：$\\vec{F} = -mg$  \n",
    "X成分：$\\vec{F} = 0$\n",
    "\n",
    "<b>運動方程式</b>  \n",
    "$m\\vec{a} = \\vec{F}$ より \n",
    "\n",
    "$m\\vec{a_y} = -mg$  \n",
    "$ a_y = -g$\n",
    "\n",
    "$m\\vec{a_x} = 0$  \n",
    "$ a_x = 0$\n",
    " \n",
    "<b>よって小球Pは \n",
    ">X軸方向には初速度$V_0\\cos\\theta$の等速直線運動を行い、  \n",
    ">Y軸方向には初速度$V_0\\sin\\theta$の鉛直投げ上げ運動をする</b>\n",
    "\n",
    ">[X軸上]  \n",
    ">①$V_x = V_0\\cos\\theta$   \n",
    ">②$x = V_0\\cos\\theta t$\n",
    "\n",
    "\n",
    ">[Y軸上]  \n",
    ">③$V_y = V_0\\sin\\theta-gt $  \n",
    ">④$y = V_0\\sin\\theta t - \\frac{1}{2}gt^2$    \n",
    ">⑤$V_y^2 - V_0^2\\sin^2\\theta = -2gy$\n",
    "    \n",
    "    "
   ]
  },
  {
   "cell_type": "markdown",
   "id": "c15760dd-8a63-47a7-9b0b-69ac66c93a2a",
   "metadata": {},
   "source": [
    "また自由落下する小球Qにおいて　　\n",
    "\n",
    "\n",
    "初速$V_0q = 0$  \n",
    "\n",
    "<b>小球Qにかかる力</b>  \n",
    "Y成分：-mg(重力)  \n",
    "$m\\vec{a} = \\vec{F}$より    \n",
    "$ma = -mg$  \n",
    "$a = -g$  \n",
    "\n",
    "<b>よって小球Qは</b>\n",
    ">初期位置(L,H)からY軸方向に初速$V_0=0$、加速度$a=-g$の自由落下運動を行う  \n",
    ">⑥$V_y = -mt$  \n",
    ">⑦$y = H  - \\frac{1}{2}gt^2$  \n",
    ">⑧$V_y^2 = -2gy$"
   ]
  },
  {
   "cell_type": "markdown",
   "id": "d399061c-f952-4775-9b46-270fab5414bd",
   "metadata": {},
   "source": [
    "<b>(1)Pが$x=L$を通る時刻tを求めよ</b>  \n",
    "①より  \n",
    "$L = V_0\\cos\\theta t$  \n",
    "$t = \\frac{L}{V_0\\cos\\theta} $  \n",
    "\n",
    ">答え・・・$t = \\frac{L}{V_0\\cos\\theta} $"
   ]
  },
  {
   "cell_type": "markdown",
   "id": "f22e9a3d-bc48-4ee7-9dee-38e4448108ec",
   "metadata": {},
   "source": [
    "<b>(2)この時刻tの時の、小球P,Qのy座標$(y_p,y_q)$を求めよ</b> \n",
    "\n",
    "$y_p$について  \n",
    "小球Pに生じるY軸上の加速度は-g  \n",
    "また④より  \n",
    ">答え1・・・$y_p = V_0\\sin\\theta t - \\frac{1}{2}gt^2$  \n",
    "\n",
    "\n",
    "また$y_q$について⑦より  \n",
    ">答え2・・・$y_q = H - \\frac{1}{2}gt^2$"
   ]
  },
  {
   "cell_type": "markdown",
   "id": "65314563-63c1-4329-97a9-f7263218efc2",
   "metadata": {},
   "source": [
    "<b>(3)$V_0$に関わらず、P,Qが衝突する角度$\\theta$の値について、$\\tan\\theta$を求める</b>\n",
    "\n",
    "\n",
    "<b>P($x_p,y_p$)とQ($a,y_q$)が一致すれば衝突する</b>  \n",
    "\n",
    "小球Pにおいて  \n",
    "(1)の解と②より、Pが$x=L$を通る時刻tのx座標($x_p$)は  \n",
    "$x_p = L$\n",
    "\n",
    "この時（2）の解より  \n",
    "$y_p = V_0\\sin\\theta t - \\frac{1}{2}gt^2$  \n",
    "\n",
    "\n",
    "よってPが$x = L$上を通る際の座標($x_p,y_p$)は  \n",
    ">$(L,V_0\\sin\\theta t - \\frac{1}{2}gt^2)$\n",
    "\n",
    "\n",
    "\n",
    "また(2)の解より、この時小球Qのy座標は  \n",
    "$(L, H - \\frac{1}{2}gt^2)$  \n",
    "\n",
    "$y_p = y_q$となる$\\theta$を求める  \n",
    " \n",
    "\n",
    "$V_0\\sin\\theta t - \\frac{1}{2}gt^2 = H - \\frac{1}{2}gt^2$\n",
    "\n",
    "この時(1)より$ t = \\frac{L}{V_0\\cos\\theta}$ \n",
    "\n",
    "$V_0\\sin\\theta \\frac{L}{V_0\\cos\\theta} - \\frac{1}{2}g(\\frac{L}{V_0\\cos\\theta})^2 = H - \\frac{1}{2}g(\\frac{L}{V_0\\cos\\theta})^2$\n",
    "\n",
    "$ \\frac{V_0\\sin\\theta}{V_0\\cos\\theta}L - \\frac{L^2}{2V_0^2\\cos^2\\theta}g = H - \\frac{L^2}{2aV_0^2\\cos^2\\theta}g$\n",
    "\n",
    "\n",
    "$\\tan\\theta L = H$  \n",
    ">答え・・・$\\tan\\theta = \\frac{H}{L}$\n",
    "\n",
    "<b>$\\tan\\theta=\\frac{H}{L}$となる角度$\\theta$とは、小球Qが自由落下を開始する地点とX軸との成す角となる</b>\n",
    "\n",
    "<b>マジで信じられないが、どんな初速度で小球Pを発射しようとも、小球Qの最初の地点を目標に向けて発射すれば、命中する。マジで信じられん</b>"
   ]
  },
  {
   "cell_type": "markdown",
   "id": "420b8df2-ce55-4603-9f3a-0fc4689de3ea",
   "metadata": {},
   "source": [
    "### 参考サイト  \n",
    "- [家庭教師のトライ 斜方投射の立式に関する問題](https://www.try-it.jp/chapters-8001/sections-8036/lessons-8062/practice-3/)  \n",
    "  \n",
    "- [高校の力学を全部解説する授業(前編)【物理】](https://www.youtube.com/watch?v=9XEX4mZFOhA)"
   ]
  }
 ],
 "metadata": {
  "kernelspec": {
   "display_name": "Python 3 (ipykernel)",
   "language": "python",
   "name": "python3"
  },
  "language_info": {
   "codemirror_mode": {
    "name": "ipython",
    "version": 3
   },
   "file_extension": ".py",
   "mimetype": "text/x-python",
   "name": "python",
   "nbconvert_exporter": "python",
   "pygments_lexer": "ipython3",
   "version": "3.10.5"
  }
 },
 "nbformat": 4,
 "nbformat_minor": 5
}
