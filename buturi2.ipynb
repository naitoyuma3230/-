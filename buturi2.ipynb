{
 "cells": [
  {
   "cell_type": "markdown",
   "id": "298633d8-b4ab-4e60-bef4-09bc0a117567",
   "metadata": {},
   "source": [
    "## 張力"
   ]
  },
  {
   "cell_type": "markdown",
   "id": "8cc2c60e-44c0-403d-afbb-efdd7c17f45e",
   "metadata": {},
   "source": [
    "<b>前提として物理に出てくる糸について</b>  \n",
    "\n",
    "1.<b>質量の無視できる</b>糸の張力の大きさはどこでも等しい  \n",
    "2.<b>質量の無視できる</b>糸の両端の張力の大きさは等しい  \n",
    "\n",
    "【1.証明】\n",
    "\n",
    "質量Mの箱と、質量mの糸をFの力で引っ張った際、  \n",
    "箱と糸全体を1つの物体とした場合と、箱と糸を長さLをxで区切ったものを１つの物体とした場合について考える。\n",
    "\n",
    "<img src=\"./syahou/himo2.png\"> \n",
    "\n",
    "$$(M + m)a = F$$\n",
    "\n",
    "<img src=\"./syahou/himo1.png\">\n",
    "\n",
    "$$(M + \\frac{x}{L}m)a = T $$\n",
    "\n",
    "この時、同じ箱と、糸についてなので両式の $a$ は等しい\n",
    "\n",
    "$$ \\frac{F}{M+m} = \\frac{T}{M+ x/Lm}  $$\n",
    "\n",
    "$$ T = \\frac{ML + mx}{(M+m)L} $$"
   ]
  },
  {
   "cell_type": "markdown",
   "id": "72cc15da-cb75-47aa-b802-801b48dba339",
   "metadata": {},
   "source": [
    "<b>この時、糸の質量を無視できるとすると$(m = 0)$</b>\n",
    "\n",
    "$$ T = \\frac{ML}{ML}F$$  \n",
    "$$ T = F$$\n",
    "\n",
    "\n",
    "このため、xがどんな値でも(糸をどこで区切ろうとも)、糸の質量が0の場合には、糸の張力は同じになる。\n",
    "\n",
    "<p style=\"text-align:center; font-weight:bold\">質量の無視できる、糸の張力はどこでも等しい</p>\n"
   ]
  },
  {
   "cell_type": "markdown",
   "id": "fab3bb42-ddc8-4811-929e-73b96b654f9c",
   "metadata": {},
   "source": [
    "[2.証明]\n",
    "- 糸の両端に働く張力は等しい\n",
    "\n",
    "例えば糸でつながれた物体A、Bの物体Bの方を右側に引っ張るとき、物体A、Bの面に糸による張力が生じる。  \n",
    "また<b>作用・反作用の法則</b>で糸の両端には図のような力が働く\n",
    "\n",
    "<img src=\"./syahou/himo4.png\">\n",
    "\n",
    "この時、糸に働く力は水平方向のみで、右側が正とすると\n",
    "\n",
    "$$m_sa = T_B-T_A$$\n",
    "$$ m_sa + T_A = T_B$$\n",
    "\n",
    "もし、糸に質量がある場合、糸の質量×加速度($m_sa$)分の力が右向きに加わる事になるため,  糸が運動を行う場合、糸の両端にかかる張力は等しくなくなる。\n",
    "\n",
    "また、もし糸の質量が0であれば、両端の張力$T_A,T_B$は等しくなる\n",
    "\n",
    "\n",
    "高校物理の問題ではよくこの質量0の糸が使われる"
   ]
  },
  {
   "cell_type": "markdown",
   "id": "73b63d4d-4078-40e6-86a2-a45319a52fda",
   "metadata": {},
   "source": [
    "## 滑車の問題"
   ]
  },
  {
   "cell_type": "markdown",
   "id": "e9f03210-e103-4523-8aaf-9749bb2e54aa",
   "metadata": {},
   "source": [
    "<img src=\"./syahou/kasya.png\">"
   ]
  },
  {
   "cell_type": "markdown",
   "id": "ea6b6090-1e53-4ff3-b6e9-dc14cd6ab8d5",
   "metadata": {},
   "source": [
    "(1)A、Bの加速度$a$の大きさを求めよ\n",
    "\n",
    "Aの運動方程式  \n",
    "$$①Ma = Mg - T$$\n",
    "\n",
    "Bの運動方程式  \n",
    "$$②ma = T - mg$$\n",
    "\n",
    "$①+②$より\n",
    "\n",
    "$$ Ma + ma = Mg - mg$$\n",
    "$$ a(M + m) = g(M - m)$$  \n",
    "\n",
    ">$$ a = \\frac{M-m}{M+m}g$$"
   ]
  },
  {
   "cell_type": "markdown",
   "id": "f2a3a0bd-28e1-47aa-887b-a142d2c49a84",
   "metadata": {},
   "source": [
    "(2)A、Bを結ぶ糸の張力の大きさを求めよ  \n",
    "\n",
    "$①$に(1)の解を代入  \n",
    "$$ T = Mg - M(\\frac{M-m}{M+m}g) $$\n",
    "\n",
    "\n",
    "$$ T = Mg - \\frac{M-m}{M+m}Mg $$\n",
    "\n",
    "$$ T =  Mg(1 - \\frac{M-m}{M+m})$$\n",
    "\n",
    "$$ T = Mg(\\frac{M+m}{M+m} - \\frac{M-m}{M+m})$$\n",
    "\n",
    ">$$ T = \\frac{2Mm}{M+m}g$$"
   ]
  },
  {
   "cell_type": "markdown",
   "id": "ae436ea3-e29a-48aa-aa9d-5ca04d5c1236",
   "metadata": {},
   "source": [
    "## 力のつり合い  \n",
    "1つの物体に複数の力が作用して、その力の合力が0になる時  \n",
    "<p style=\"text-align:center;\"><span style=\"font-weight:bold\">力がつりあっている</span>という</p>"
   ]
  },
  {
   "cell_type": "markdown",
   "id": "ed89a72d-bb7f-445f-b014-f2c735e06eb3",
   "metadata": {},
   "source": [
    "$$ \\vec{F_1}+\\vec{F_2}+\\vec{F_3}+・・・ = 0 $$"
   ]
  },
  {
   "cell_type": "markdown",
   "id": "1af17a04-13a8-421e-bae6-e2e324051a1a",
   "metadata": {},
   "source": [
    "### 問題:2本の糸でつり下げられる物体  \n",
    "<img src=\"./syahou/turi2.png\">"
   ]
  },
  {
   "cell_type": "markdown",
   "id": "681b33ee-efa7-45ed-b14f-79b15564a7bf",
   "metadata": {},
   "source": [
    "<b>(1)糸A、Bの張力$T_A,T_B$を求めよ</b>  \n",
    "\n",
    "上がy成分の正\n",
    "右がx成分の正とすると  \n",
    "\n",
    "力($T_A$)の分解  \n",
    "$$T_Ax = \\cos30° T_A$$\n",
    "$$T_Ay = \\sin30° T_A$$\n",
    "\n",
    "力($T_B$)の分解 \n",
    "$$T_Bx = \\cos 60° T_B$$\n",
    "$$T_By = \\sin 60° T_B$$\n",
    "\n",
    "物体は静止しており、力はつりあっているので  \n",
    "\n",
    "$$T_Ax = T_Bx, T_Ay = T_By $$\n",
    "\n",
    "水平方向\n",
    "$$\\cos 30° T_Ax  = \\cos 60° T_Bx $$\n",
    "\n",
    "垂直方向は物体に働く重力を含める\n",
    "$$\\sin 30° T_Ay +  \\sin 60° T_By = mg$$"
   ]
  },
  {
   "cell_type": "markdown",
   "id": "fbde5f9c-370b-4cf2-bf36-410a6b9d3c2a",
   "metadata": {},
   "source": [
    "$\\cos 30° = \\frac{\\sqrt{3}}{2}, \\sin 30° = \\frac{1}{2}$  \n",
    "$\\cos 60° = \\frac{1}{2}, \\sin 60° = \\frac{\\sqrt{3}}{2}$\n",
    "\n",
    "よって\n",
    "\n",
    "$$①\\frac{\\sqrt{3}}{2} T_A = \\frac{1}{2} T_B$$  \n",
    "$$②\\frac{1}{2} T_A + \\frac{\\sqrt{3}}{2} T_B = mg$$  \n",
    "\n",
    "$$①×\\sqrt{3} + ②$$\n",
    "\n",
    "$$$$"
   ]
  },
  {
   "cell_type": "markdown",
   "id": "27a5a588-e304-4824-8300-01aba66ed5b5",
   "metadata": {},
   "source": [
    "$$ \\frac{3}{2} T_A - \\frac{1}{2} T_A = -mg$$\n",
    ">$$ T_A = \\frac{1}{2}mg$$\n",
    "\n",
    "\n",
    "\n",
    "よって\n",
    "$$ T_B = \\sqrt T_A$$\n",
    "\n",
    "\n",
    ">$$T_B = \\frac{\\sqrt{3}}{2}mg$$\n"
   ]
  },
  {
   "cell_type": "markdown",
   "id": "f42cebe9-a5d5-45c6-ba4f-159d0484f33c",
   "metadata": {},
   "source": [
    "<b>成分をx、yに分解して連立方程式を立てたが、解ではそれぞれ合成された力が得られた</b>"
   ]
  },
  {
   "cell_type": "markdown",
   "id": "843cb7ab-ca38-4dac-9826-1669a78d3c94",
   "metadata": {},
   "source": [
    "## 弾性力"
   ]
  },
  {
   "cell_type": "markdown",
   "id": "b0c325ba-c3c1-461b-910a-67a3e1c4e7b5",
   "metadata": {},
   "source": [
    "<img src=\"./syahou/bane.png\" width=\"300px\">  \n",
    "\n",
    "伸びた距離に比例して力が増す  "
   ]
  },
  {
   "cell_type": "markdown",
   "id": "a9e4aec4-9c82-45b9-8049-330f0710cd8a",
   "metadata": {},
   "source": [
    "フックの法則  \n",
    "\n",
    "$$ F = kx$$\n",
    "\n",
    "x：自然長からの伸縮距離[m]  \n",
    "k：ばね係数【n/m】（ばねの強さ）"
   ]
  },
  {
   "cell_type": "markdown",
   "id": "23c4a5c1-7d2d-4e23-b382-607d9c45b899",
   "metadata": {},
   "source": [
    "### 問題：2つのばね  \n",
    "<img src=\"./syahou/bane2.png\">  \n",
    "\n",
    "<img src=\"./syahou/bane3.png\">\n",
    "\n",
    "<b>(1)すべてが自然長の状態からBをdだけ引くとき、Aの動く距離xを求めよ"
   ]
  },
  {
   "cell_type": "markdown",
   "id": "d0f47a7a-8ec1-4945-82bc-03432b955105",
   "metadata": {},
   "source": [
    "Aに働く力について  \n",
    "\n",
    "ばねAとばねBが自然長から引き伸ばされた距離の合計がdとなる\n",
    "\n",
    "よってばねAが重りAを引く力とばねBが重りBを引く力のつり合いは\n",
    "\n",
    "$$ kx=2k(d-x) $$\n",
    "\n",
    "$$ 3kx = 2kd $$\n",
    ">$$ x = \\frac{2}{3}d $$\n"
   ]
  },
  {
   "cell_type": "markdown",
   "id": "35a205bf-91b1-4c03-a9a3-d8d5988148e3",
   "metadata": {},
   "source": [
    "## 摩擦力"
   ]
  },
  {
   "cell_type": "markdown",
   "id": "04c61ca3-0cac-46e8-af07-0f3d385cc2bb",
   "metadata": {},
   "source": [
    "### 静止摩擦力  \n",
    "<img src=\"./syahou/masatu.png\">"
   ]
  },
  {
   "cell_type": "markdown",
   "id": "d3593c7c-b3a3-4c58-aa0f-27f1c311a79b",
   "metadata": {},
   "source": [
    "上図で外力Tで引かれる箱が静止状態であるとすると  \n",
    "$F_0:静止摩擦力$\n",
    "$$ F_0 =  T $$\n",
    "\n",
    "\n",
    "<b>最大静止摩擦力</b>  \n",
    "\n",
    "\n",
    "$F_0$の限界の大きさを$F_0max$とすると  \n",
    "(滑りだす直前、静止していられる限界)  \n",
    "\n",
    "\n",
    "$$F_0max = \\mu N$$\n",
    "$$(静止摩擦係数：\\mu)$$\n",
    "\n",
    "\n",
    "垂直応力：N(水力に押し付けられる力に対する応力)と摩擦係数に比例する"
   ]
  },
  {
   "cell_type": "markdown",
   "id": "3287367d-8547-4d9d-872d-9bca6b735f6c",
   "metadata": {},
   "source": [
    "### 問題：傾斜面上の物体の摩擦\n",
    "\n",
    "\n",
    "<img src=\"./syahou/masatu2.png\">"
   ]
  },
  {
   "cell_type": "markdown",
   "id": "214ae146-b0d9-41fa-95bb-0c945e25ca72",
   "metadata": {},
   "source": [
    "滑り出す瞬間では、fは最大静止摩擦力(μN)となる\n",
    "\n",
    "物体にかかる力、重力mgを分解する  \n",
    "斜面に対し水平方向：$mg \\sin\\theta$  \n",
    "斜面に対し垂直方向：$mg\\cos\\theta$\n",
    "\n",
    "垂直応力: $N = mg\\cos\\theta$より \n",
    "\n",
    "$$mg\\cos\\theta \\mu = mg \\sin\\theta$$\n",
    "\n",
    "$$ \\mu = \\frac{\\sin\\theta}{\\cos\\theta}$$\n",
    "\n",
    ">$$\\mu = \\tan\\theta$$\n",
    "\n",
    "この時の$\\theta$を摩擦角と呼ぶ\n",
    "\n",
    "<b>摩擦角:$\\theta$から、$\\tan\\theta$を求めれば摩擦係数が分かる</b>"
   ]
  },
  {
   "cell_type": "markdown",
   "id": "3bd8282d-79f4-4b37-a5ee-4ebd3c53f910",
   "metadata": {},
   "source": [
    "## 動摩擦力  \n",
    "\n",
    "<img src=\"./syahou/doumasatu.png\">  \n"
   ]
  },
  {
   "cell_type": "markdown",
   "id": "7b8082e2-b232-4d90-9e04-cc9fd45e4ce5",
   "metadata": {},
   "source": [
    "外力が最大静止摩擦力を超えた時、面に対し物体が滑理始める  \n",
    "その際、物体に働く摩擦力を動摩擦力と呼ぶ\n",
    "\n",
    "$$ F' = \\mu'N $$  \n",
    "\n",
    "垂直応力：N、動摩擦係数：μが一定なら動摩擦力:f'は一定であり  \n",
    "静止摩擦力よりも小さい\n",
    "\n",
    "\n",
    "<img src=\"./syahou/doumasatu2.png\">\n"
   ]
  },
  {
   "cell_type": "markdown",
   "id": "168f6424-ffa0-4e11-a469-7b2d3a42a3c8",
   "metadata": {},
   "source": [
    "### 問題：ざらざらの面上の箱を押す  \n",
    "\n",
    "<img src=\"./syahou/doumasatuq.png\">"
   ]
  },
  {
   "cell_type": "markdown",
   "id": "3e9d11de-6eb2-4b3a-8357-31fff8e5317b",
   "metadata": {},
   "source": [
    "(1)どれだけの距離を進んで止まるか求めよ  \n",
    "\n",
    "初速度で移動する物体に対し、一定の動摩擦力により減速(力の減少)が生じる  \n",
    "動摩擦力と物体に働く力が釣り合った時、物体は静止する\n",
    "\n",
    "力がつりあった時点について考える\n",
    "\n",
    "力のつり合いより\n",
    "$$ N = mg $$\n",
    "\n",
    "よって動摩擦力は\n",
    "$$  F' = -\\mu' mg $$\n",
    "\n",
    "物体に働く力は\n",
    "\n",
    "$$ F = ma $$\n",
    "\n",
    "\n",
    "動摩擦力と物体に働く力のつり合いより\n",
    "\n",
    "$$ F + F' = 0$$\n",
    "\n",
    "$$  ma = \\mu' mg $$\n",
    "$$  a = -\\mu'g$$\n",
    "\n",
    "\n",
    "物体に働く加速度$a = \\mu'g$(定数)より  \n",
    "物体は等加速度直線運動を行う  \n",
    "\n",
    "等加速度運動の公式  \n",
    "$$① V = V_0 + at $$  \n",
    "$$② x = x_0 + V_0t + \\frac{1}{2}at^2 $$  \n",
    "$$③V^2 - V_0^2 = 2a(x - x_0)$$\n",
    "\n",
    "\n",
    "またこの等加速度運動を行う物体が静止した時点についてなので  \n",
    "$$ V = 0$$\n",
    "物体の進んだ距離をxとすると  \n",
    "③より\n",
    "\n",
    "$$ 0^2 - V_0^2 = -2\\mu'gx　 $$ \n",
    "\n",
    ">$$ x = \\frac{v_0^2}{2\\mu'g} $$\n"
   ]
  },
  {
   "cell_type": "markdown",
   "id": "3d4ea263-80be-4df3-8aed-370fabeb6b2f",
   "metadata": {},
   "source": [
    "### 参考サイト  \n",
    "  \n",
    "- [高校の力学を全部解説する授業(前編)【物理】](https://www.youtube.com/watch?v=9XEX4mZFOhA&t=16058s)"
   ]
  },
  {
   "cell_type": "code",
   "execution_count": null,
   "id": "d300ff64-4b5f-43e1-80c8-613c6e8443e3",
   "metadata": {},
   "outputs": [],
   "source": []
  }
 ],
 "metadata": {
  "kernelspec": {
   "display_name": "Python 3 (ipykernel)",
   "language": "python",
   "name": "python3"
  },
  "language_info": {
   "codemirror_mode": {
    "name": "ipython",
    "version": 3
   },
   "file_extension": ".py",
   "mimetype": "text/x-python",
   "name": "python",
   "nbconvert_exporter": "python",
   "pygments_lexer": "ipython3",
   "version": "3.10.5"
  }
 },
 "nbformat": 4,
 "nbformat_minor": 5
}
