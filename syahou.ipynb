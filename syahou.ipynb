{
 "cells": [
  {
   "cell_type": "markdown",
   "id": "a0fd4df7-9b15-4b4d-920a-d52681531067",
   "metadata": {},
   "source": [
    "## 斜方投射のシミュレーション  \n",
    "\n",
    "<b>1. 下の問題について考える  \n",
    "   2. 投射角度$\\theta$,初速 $v_o$ の入力を受け、最高点h,到達距離OPを出力する関数を作成する</b>  \n",
    "\n",
    "\n",
    "\n",
    "<img src=\"./syahou/mondai.png\">"
   ]
  },
  {
   "cell_type": "code",
   "execution_count": null,
   "id": "f4035922-e041-43b5-8965-b1b244f6ce1e",
   "metadata": {},
   "outputs": [],
   "source": []
  }
 ],
 "metadata": {
  "kernelspec": {
   "display_name": "Python 3 (ipykernel)",
   "language": "python",
   "name": "python3"
  },
  "language_info": {
   "codemirror_mode": {
    "name": "ipython",
    "version": 3
   },
   "file_extension": ".py",
   "mimetype": "text/x-python",
   "name": "python",
   "nbconvert_exporter": "python",
   "pygments_lexer": "ipython3",
   "version": "3.10.5"
  }
 },
 "nbformat": 4,
 "nbformat_minor": 5
}
