{
 "cells": [
  {
   "cell_type": "markdown",
   "id": "0321fa6f-c4d0-4352-9856-63451b472a8e",
   "metadata": {},
   "source": [
    "#　弧度法\n",
    "\n",
    "\n",
    "\n",
    "弧の長さで、角度を表す  \n",
    "\n",
    "円周と半径の割合は一定となる  \n",
    "(直径で割った時の値がπ)\n",
    "\n",
    "$$ \\pi = \\frac{l}{2r} $$  \n",
    "\n",
    "$$ l = 2r\\pi $$\n",
    "\n",
    "\n",
    "中心角Θの扇形の弧Lの長さもπで表せる\n",
    "\n",
    "\n",
    "$$ l = 2r\\pi \\frac{\\theta}{360°}  $$\n",
    "\n",
    "\n",
    "ここから角度も表せるが\n",
    "\n",
    "$$ \\theta =  \\frac{360°l}{2\\pi r}$$\n",
    "\n",
    "\n",
    "度数法で弧の長さを表すと表記が長くなる\n",
    "\n",
    "\n",
    "そのため<b>弧の長さでそのまま中心角Θを表す事にしたものが弧度法</b>\n",
    "\n",
    "\n",
    "\n",
    "半径と弧が同じ長さrとなる場合の中心角を$\\alpha$とする  \n",
    "\n",
    "$$ \\theta =  360×\\frac{l}{2\\pi r}$$\n",
    "\n",
    "より\n",
    "\n",
    "<img src=\"./rad/rad.png\">\n",
    "\n",
    "$$  $$\n"
   ]
  },
  {
   "cell_type": "code",
   "execution_count": null,
   "id": "8cb38c25-6bc0-4d09-81bc-616014529a2f",
   "metadata": {},
   "outputs": [],
   "source": [
    "この角度$\\alpha$を"
   ]
  }
 ],
 "metadata": {
  "kernelspec": {
   "display_name": "Python 3 (ipykernel)",
   "language": "python",
   "name": "python3"
  },
  "language_info": {
   "codemirror_mode": {
    "name": "ipython",
    "version": 3
   },
   "file_extension": ".py",
   "mimetype": "text/x-python",
   "name": "python",
   "nbconvert_exporter": "python",
   "pygments_lexer": "ipython3",
   "version": "3.10.5"
  }
 },
 "nbformat": 4,
 "nbformat_minor": 5
}
